{
 "cells": [
  {
   "cell_type": "code",
   "execution_count": 1,
   "metadata": {},
   "outputs": [],
   "source": [
    "### XML load"
   ]
  },
  {
   "cell_type": "code",
   "execution_count": 2,
   "metadata": {},
   "outputs": [
    {
     "name": "stdout",
     "output_type": "stream",
     "text": [
      "XML parsing Start\n",
      "\n",
      "Image properties\n",
      "width : 1200\n",
      "height : 800\n",
      "channels : 3\n",
      "\n",
      "Objects Description\n",
      "class : koala\n",
      "xmin : 327.6\n",
      "ymin : 123.82\n",
      "xmax : 997.15\n",
      "ymax : 782.8499999999999\n",
      "\n",
      "XML parsing END\n"
     ]
    }
   ],
   "source": [
    "import sys\n",
    "import os\n",
    "import xml.etree.ElementTree as Et\n",
    "from xml.etree.ElementTree import Element, ElementTree\n",
    "\n",
    "#xml_path = sys.argv[1]\n",
    "xml_path = '.\\\\koala12.xml'\n",
    "\n",
    "print(\"XML parsing Start\\n\")\n",
    "xml = open(xml_path, \"r\")\n",
    "tree = Et.parse(xml)\n",
    "root = tree.getroot()\n",
    "\n",
    "size = root.find(\"size\")\n",
    "\n",
    "width = size.find(\"width\").text\n",
    "height = size.find(\"height\").text\n",
    "channels = size.find(\"depth\").text\n",
    "\n",
    "print(\"Image properties\\nwidth : {}\\nheight : {}\\nchannels : {}\\n\".format(width, height, channels))\n",
    "\n",
    "objects = root.findall(\"object\")\n",
    "print(\"Objects Description\")\n",
    "for _object in objects:\n",
    "    name = _object.find(\"name\").text\n",
    "    bndbox = _object.find(\"bndbox\")\n",
    "    xmin = bndbox.find(\"xmin\").text\n",
    "    ymin = bndbox.find(\"ymin\").text\n",
    "    xmax = bndbox.find(\"xmax\").text\n",
    "    ymax = bndbox.find(\"ymax\").text\n",
    "\n",
    "    print(\"class : {}\\nxmin : {}\\nymin : {}\\nxmax : {}\\nymax : {}\\n\".format(name, xmin, ymin, xmax, ymax))\n",
    "\n",
    "print(\"XML parsing END\")"
   ]
  }
 ],
 "metadata": {
  "kernelspec": {
   "display_name": "Python 3",
   "language": "python",
   "name": "python3"
  },
  "language_info": {
   "codemirror_mode": {
    "name": "ipython",
    "version": 3
   },
   "file_extension": ".py",
   "mimetype": "text/x-python",
   "name": "python",
   "nbconvert_exporter": "python",
   "pygments_lexer": "ipython3",
   "version": "3.7.6"
  }
 },
 "nbformat": 4,
 "nbformat_minor": 4
}
